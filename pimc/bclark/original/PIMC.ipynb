{
 "cells": [
  {
   "cell_type": "markdown",
   "metadata": {},
   "source": [
    "In this tutorial, we will write a Path Integral Code from scratch in python.  \n",
    "At the end of this tutorial, we will have a simple path integral code that will be \n",
    "able to calculate properties of two (unpolarized) electrons in a quantum dot \n",
    "(which we will model as a double quantum harmonic well.)"
   ]
  },
  {
   "cell_type": "markdown",
   "metadata": {},
   "source": [
    "Throughout this tutorial, we will work in atomic units (i.e. hartree and bohr radii).  The relevant parameters we will work with give \n",
    "$\\lambda=\\frac{\\hbar^2}{2m}=0.5$ for electrons and inverse temperature $\\beta = \\frac{1}{kT}$ (k=1.0 in our units)."
   ]
  },
  {
   "cell_type": "markdown",
   "metadata": {},
   "source": [
    "### Contents\n",
    "\n",
    "* Preliminaries\n",
    "* Formalism\n",
    "    * The potential action\n",
    "    * The kinetic action\n",
    "* Building code pieces\n",
    "    * Path Object\n",
    "    * The Kinetic Action\n",
    "    * Defining Vext\n",
    "    * Potential Action\n",
    "    * Your first PIMC Code\n",
    "* Our First Move: Single Slice Displacements\n",
    "    * Choosing new coordinates\n",
    "    * Evaluating the acceptance probability\n",
    "    * Putting it together\n",
    "        * Kinetic Test\n",
    "        * External Potential Test\n",
    "    * Visualizing the paths\n",
    "* Our second move: Displace\n",
    "    * Potential Test, take 2\n",
    "* Our third  move: Lowering the temperature and the Bisection Move\n",
    "* The final steps\n",
    "    * Observables\n",
    "    * Correlation: The interaction potential\n",
    "    * Adding the double well\n",
    "    * Manipulating a quantum dot"
   ]
  },
  {
   "cell_type": "markdown",
   "metadata": {},
   "source": [
    "# Goals\n",
    "    Goal 1: Calculate the kinetic action of a path\n",
    "    Goal 2: Calculate the potential action of a path\n",
    "    Goal 3: Implement Monte Carlo moves to sample paths from the density matrix\n",
    "    Goal 4: Improve Monte Carlo moves to sample paths more efficiently"
   ]
  },
  {
   "cell_type": "markdown",
   "metadata": {},
   "source": [
    "## Formalism  \n",
    "The many-particle density matrix is defined as \n",
    "$$\\rho(R,R';\\beta) = \\langle R | exp[-\\beta \\hat{H} ] |R'\\rangle$$,\n",
    "where $R$ is a $3N$-dimensional vector representing the positions of all $N$ particles in the system.  The density matrix has the property that the thermal average of any observable quantity can be expressed as \n",
    "$$\\langle \\hat{O} \\rangle = \\frac{1}{Z} \\int dR dR' \\rho(R,R';\\beta)O(R,R')$$\n",
    "where $$Z= \\int dR \\rho(R,R;\\beta)$$\n"
   ]
  },
  {
   "cell_type": "markdown",
   "metadata": {},
   "source": [
    "Many properties we are interested in (the energy, pair correlation functions, etc.) are \n",
    "*diagonal* in position space.  This allows us to compute properties from the diagonal of the density matrix, $\\rho(R,R;\\beta)$.  \n",
    "\n",
    "In PIMC, we expand the diagonal density matrix by dividing the exponential into $M$ pieces and inserting the resolution fo unity in position space between each piece, yielding\n",
    "$$\\rho(R_0,R_0;\\beta)=\\int dR_1 ... dR_{M-1} \\rho(R_0,R_1;\\tau)\\rho(R_1,R_2;\\tau)...\\rho(R_{M-1},R_0;\\tau)$$ where $\\tau\\equiv\\beta/M$. Note that each density matrix $\\rho(R_i,R_{i+1};\\tau)$, in some sense, \"connects\" particle positions at *time slice* $i$ to the adjacent slice at slice $i+1.$  Thus, we can think of the progression of particle positions from time slice to time slice as a discrete $path.$"
   ]
  },
  {
   "cell_type": "markdown",
   "metadata": {},
   "source": [
    "Haven't we just made more work for ourselves, increasing the dimensions over which we have to integrate?  In some sense, we have, but in Monte Carlo integration, the computational demand does not increase rapidlty with dimensionality as in standard numerical quadrature.  For small $\\tau$ (high temperature), we can write down very good approximations to $\\rho(R,R';\\tau).$  Physically, this is because particle motion is uncorrelated at very high temperature. By using Metropolis Monte Carlo to evaluate the above intergral, we can then sample the desnity matrix at any lower temperature we want by choosing the number of time-slices, $M.$  "
   ]
  },
  {
   "cell_type": "markdown",
   "metadata": {},
   "source": [
    "We can then compute thermal averages by writing\n",
    "$$\\langle O \\rangle_\\textrm{thermal} = \\int dR_0..dR_{M-1} \\times \\\\ \\frac{1}{Z}\\rho(R_0,R_1;\\tau)\\rho(R_1,R_2;tau)...\\rho(R_{M-1},R_0;\\tau) \\frac{(\\hat{O} \\rho)(R_0,R_1;\\tau)}{ \\rho(R_0,R_1;\\tau)}$$\n",
    "\n",
    "where the sampling probability is the $\\rho...\\rho$ piece and the value to average is the $(\\hat{O}\\rho)/\\rho$ piece.   Let us label the sampling probability $\\pi(\\{R_i\\})$ where $\\{R_i\\}$ represents a particular set of *paths* for the particles.  Let $W_O$ represent the value to be averaged for that path.  Note that the first position in the path $R_0$ is also the last position in the path.  This indicates that the path closes upon itself resulting in objects that resembles ring polymers.  "
   ]
  },
  {
   "cell_type": "markdown",
   "metadata": {},
   "source": [
    "![title](figures/test_beads.png)"
   ]
  },
  {
   "cell_type": "markdown",
   "metadata": {},
   "source": [
    "The entire PIMC method can then be summarized by the following algorithm:   \n",
    "\n",
    "* Move the path variables $\\{R_i\\}$ such that path configurations are sampled with probability $\\pi(\\{R_i\\})$ given above.\n",
    "* For each path configuration and each observable, $\\hat{O}$, compute $W_O(\\{R_i\\})$ and add to the running average.\n",
    "* Repeat until averages have sufficiently small error bars."
   ]
  },
  {
   "cell_type": "markdown",
   "metadata": {},
   "source": [
    "It turns out that it is much easier to work with the the logarithm of the short time density matrix instead of the density matrix itself  In particular, define the action $S$, as \n",
    "\n",
    "$$S(R,R';\\tau) = -\\ln[\\rho(R,R';\\tau)$$\n",
    "\n",
    "We divide this action into two pieces: one resulting from the potential energy and one from the kinetic energy."
   ]
  },
  {
   "cell_type": "markdown",
   "metadata": {},
   "source": [
    "### The potential action\n",
    "We will work in a simple approximation for the potential action known as the *primitive* approximation.  In this approximation, the potential action is given simply $\\tau$ time the potential energy at each time slice\n",
    "\n",
    "$$V(R,R';\\tau)= \\frac{\\tau}{2}\\left[V(R)+V(R')\\right]$$\n",
    "\n",
    "In our two-electron problem, we will have an external potential representing the confining field of the dot and a modified Coulomb interaction between the particles.\n",
    "\n"
   ]
  },
  {
   "cell_type": "markdown",
   "metadata": {},
   "source": [
    "### The kinetic action\n",
    "The kinetic energy operator for a single particle is simply $\\hat{T} = -\\lambda \\nabla^2$, where $\\lambda=\\hbar^2/2m$.  We can analytically work out that, in three dimensions. \n",
    "\n",
    "$$T(r,r';\\tau) = -\\frac{3}{2}\\ln(4\\pi\\lambda\\tau) + \\frac{|r-r'|^2}{4\\lambda\\tau}$$\n",
    "\n",
    "Note that we have used small $r$ and $r'$ to denote a single particle at two adjacent time slices.  Written this way, the kinetic action looks like a spring potential acting between the time slices. \n",
    "\n",
    "Combining our kinetic and potential actions, we can write down our complete action for a single link as \n",
    "$$S(R,R';\\tau) = \\frac{\\tau}{2}\\left[ V_\\textrm{ext}(r_1)+V_\\textrm{ext}(r_2)+V_\\textrm{ee}(|r_1-r_2|) + V_\\textrm{ext}(r_1')+V_\\textrm{ext}(r_2')+V_\\textrm{ee}(|r_1'-r_2'|) + \\frac{|r_1-r_1'|^2}{4\\lambda\\tau} + \\frac{|r_2-r_2'|^2}{4\\lambda\\tau} - 3\\ln(4\\pi\\lambda\\tau)\\right]$$"
   ]
  },
  {
   "cell_type": "markdown",
   "metadata": {},
   "source": [
    "### Path Object\n",
    "\n",
    "A configuration of the electron paths in the system will be represented by a three-dimensional numpy array. We will group array with other data and functions into a Path object.  A single particle at a time slice is sometimes called a *bead*.  For this reason, the path array for an `Path` instance `path` will be called `path.beads`.  The path variables are indexed as\n",
    "\n",
    "```python\n",
    "Path.beads[islice,iptcl,idim]\n",
    "```\n",
    "\n",
    "where the first dimension is the slice index in imaginary time, the second is the particle index: `iptcl` is 0,1, the third is spatial dimension: `idim` is 0,1,2, representing the x,y, or z, coordinate.  Each slice is connected to the next, with the last slice also connected to the first. \n",
    "\n",
    "*Note:* Inside `Path` class function definitions, you will access the sam array through `self.beads`."
   ]
  },
  {
   "cell_type": "markdown",
   "metadata": {},
   "source": [
    "The Path class is defined in `path.py`. Let us take a quick look at the structure of our object.  To begin with, there is an `def__init__` function that is called whenever our class is initialized and sets up the class.  It defines the number of particles, time slices, as well as the time step and lambda (`lambda` is a reserved keyword in Python, so we use `lam` instead).  There is also a `def RelabelBeads` which we will explain below.  The rest of the class currently consists of pieces that you are going to fill in like the actions and the energies. \n",
    "\n",
    "To create a Path object instance we can call\n",
    "``` Python\n",
    "nslice = 5\n",
    "nptcl  = 2\n",
    "ndim   = 3\n",
    "test_beads = np.loadtxt(fname).reshape(nslice,nptcl,ndim)\n",
    "tau = lam = 0.5\n",
    "path = Path(test_beads,tau,lam)\n",
    "```\n",
    "which will load a path saved in `data/TestPath.dat`. The above lines are saved in `path.py::load_test_path` for your convenience"
   ]
  },
  {
   "cell_type": "code",
   "execution_count": 1,
   "metadata": {
    "collapsed": false
   },
   "outputs": [
    {
     "name": "stdout",
     "output_type": "stream",
     "text": [
      "path nptcl = 2, inverse temperature beta = 0.4000\n",
      "slice 0 of the particle 1 in the z dimension is -0.566223936211. \n"
     ]
    }
   ],
   "source": [
    "import numpy as np\n",
    "import path as pfuncs\n",
    "\n",
    "path = pfuncs.load_test_path(str_rep=True)\n",
    "path.SetPotential(lambda x:0.0)\n",
    "path.SetCouplingConstant(0.0)\n",
    "\n",
    "print( \"slice 0 of the particle 1 in the z dimension is %14.12f. \"%path.beads[0,1,2] )"
   ]
  },
  {
   "cell_type": "markdown",
   "metadata": {},
   "source": [
    "You should find that the slice is at -0.566223936211."
   ]
  },
  {
   "cell_type": "markdown",
   "metadata": {},
   "source": [
    "*A note about RelabelBeads:*\n",
    "\n",
    "Our path integrals are periodic in imaginary time and it doesn't matter which \"slice\" we call slice 0.   To simpliy our life, we are going to add a function to our class that relabels the slice labels so the one we call \"slice 0\" is selected randomly.  This way, we can always move what is currently \"slice 1, but we will still eventually move all the slices.  This saves us from worrying about wrapping around from the last slice to the first slice in all our functions.  There is nothing physical to this and it is simply a technical book-keeping apparatus.  Toward that end, we have the function `RelabelBeads` in `Path.`"
   ]
  },
  {
   "cell_type": "markdown",
   "metadata": {},
   "source": [
    "#### The Kinetic Action\n",
    "\n",
    "    \n",
    "We need to evaluate both the Kinetic Action and the Potential Action.  The Kinetic Action is of the form \n",
    "\n",
    "$$\\sum_i -\\ln\\left[\\langle R(t) | \\exp[-\\tau \\lambda \\nabla^2]R(t+\\tau)\\rangle \\right] = \\textrm{const}+\\sum_{t,i} \\frac{|r_{i,t}-r_{i,t+\\tau}|^2}{4\\lambda\\tau}$$\n",
    "\n",
    "Since the constant will not change when a path is moved, we need not evaluate it when we decide whether to accept or reject a move.\n",
    "\n",
    "Let's start out by modifying the function to our `Path` of the form `def KineticAction(self,slice1,slice2):\n",
    "`"
   ]
  },
  {
   "cell_type": "markdown",
   "metadata": {},
   "source": [
    "The indices of the slices are passed into this function as slice1 and slice2.\n",
    "\n",
    "1.  You can get the dot product of two vectors by calling `numpy.dot`\n",
    "2.  You can get $\\lambda \\tau$ by calling `self.lam * self.tau`\n",
    "\n",
    "To test our function, we can add to our initialization"
   ]
  },
  {
   "cell_type": "code",
   "execution_count": 2,
   "metadata": {
    "collapsed": false
   },
   "outputs": [
    {
     "name": "stdout",
     "output_type": "stream",
     "text": [
      "The value of the kinetic action is  0.567148772825\n"
     ]
    }
   ],
   "source": [
    "reload(pfuncs)\n",
    "path = pfuncs.load_test_path()\n",
    "path.SetPotential(lambda x:0.0)\n",
    "path.SetCouplingConstant(0.0)\n",
    "print \"The value of the kinetic action is \", path.KineticAction(1,2)"
   ]
  },
  {
   "cell_type": "markdown",
   "metadata": {},
   "source": [
    "You should get a result of 0.567148772825."
   ]
  },
  {
   "cell_type": "markdown",
   "metadata": {},
   "source": [
    "#### Defining Vext\n",
    "\n",
    "We will now define a function for the $V_\\textrm{ext}$.  Our `Path` object takes a function (which we are about to write) as a paramter.  In python, functions are first-class objects (https://en.wikipedia.org/wiki/First-class_function).  This means that you are allowed to pass around functions as arguments to functions which can then be used.  We are now going to write a function that takes a single coordinate and returns the values of the harmonic potential\n",
    "\n",
    "$$V_\\textrm{ext}(r)=\\frac{1}{2}m\\omega^2|r|^2$$\n",
    "\n",
    "where we will set $m=\\omega=1.$  Later in this tutorial, we will generalize this to a double well quantum dot.  Let's start by writing the function.\n",
    "\n"
   ]
  },
  {
   "cell_type": "code",
   "execution_count": 3,
   "metadata": {
    "collapsed": false
   },
   "outputs": [],
   "source": [
    "def HarmonicOscillator(pos,mass=1.0,omega=1.0):\n",
    "    # --- solution ---- \n",
    "    r2  = (pos*pos).sum() # sum over particles and dimensions\n",
    "    pot = 0.5*mass*omega**2.*r2\n",
    "    # --- solution ---- \n",
    "    return pot\n",
    "#return the harmonic oscillator\n",
    "# potential for a single particle at position r1"
   ]
  },
  {
   "cell_type": "markdown",
   "metadata": {},
   "source": [
    "Let us now test this function by using"
   ]
  },
  {
   "cell_type": "code",
   "execution_count": 4,
   "metadata": {
    "collapsed": false
   },
   "outputs": [
    {
     "name": "stdout",
     "output_type": "stream",
     "text": [
      "The value of the external potential is 0.055\n"
     ]
    }
   ],
   "source": [
    "reload(pfuncs)\n",
    "path = pfuncs.load_test_path()\n",
    "path.SetPotential(HarmonicOscillator)\n",
    "path.SetCouplingConstant(0.0)\n",
    "print \"The value of the external potential is\", path.Vext(np.array([0.1,0.3,0.1]))"
   ]
  },
  {
   "cell_type": "markdown",
   "metadata": {},
   "source": [
    "You should get the answer 0.055."
   ]
  },
  {
   "cell_type": "markdown",
   "metadata": {},
   "source": [
    "#### Potential Action\n",
    "\n",
    "We are using the primitive approximation to the potential.  This means that it is of the form $\\tau V.$  Fill in the potential action `PotentialAction(self,slice1,slice2):` that is currently part of our object. We will test the potential action by calling\n"
   ]
  },
  {
   "cell_type": "code",
   "execution_count": 5,
   "metadata": {
    "collapsed": false
   },
   "outputs": [
    {
     "name": "stdout",
     "output_type": "stream",
     "text": [
      "The value of the potential action between slice 1 and 2 (with a harmonic external potential is) 2.46414551377\n"
     ]
    }
   ],
   "source": [
    "reload(pfuncs)\n",
    "path = pfuncs.load_test_path()\n",
    "path.SetPotential(HarmonicOscillator)\n",
    "path.SetCouplingConstant(0.0)\n",
    "print \"The value of the potential action between slice 1 and 2 (with a harmonic external potential is)\", path.PotentialAction(1,2)"
   ]
  },
  {
   "cell_type": "markdown",
   "metadata": {},
   "source": [
    "The answer you expect is 2.46414551377"
   ]
  },
  {
   "cell_type": "markdown",
   "metadata": {},
   "source": [
    "### Your First PIMC Code\n",
    "\n",
    "We are now going to go ahead and actually write our first PIMC code. This code will mainly\n",
    "be a big loop over two functions: a move you will write soon that implements a monte carlo\n",
    "step and a call to calculate the total energy of your system.\n",
    "\n",
    "It will look like:"
   ]
  },
  {
   "cell_type": "code",
   "execution_count": 5,
   "metadata": {
    "collapsed": false
   },
   "outputs": [],
   "source": [
    "def pimc(nstep,path,move_list,block_size=10):\n",
    "    nblock  = nstep//block_size\n",
    "    nmove   = len(move_list)\n",
    "\n",
    "    nslice,nptcl,ndim = path.beads.shape\n",
    "    path_trace = np.zeros([nblock,nslice,nptcl,ndim])\n",
    "    etrace  = np.zeros(nblock) # energy trace\n",
    "    naccept = np.zeros(nmove,dtype=int) # number of accepted moves, resolved for each move\n",
    "    iblock = 0\n",
    "    for istep in range(nstep):\n",
    "        for imove in range(len(move_list)):\n",
    "            if (move_list[imove](path)):\n",
    "                naccept[imove] += 1\n",
    "            if istep%block_size == 0:\n",
    "                etrace[iblock] = path.Energy()\n",
    "                path_trace[iblock] = path.beads.copy()\n",
    "                iblock += 1\n",
    "    return naccept,etrace,path_trace"
   ]
  },
  {
   "cell_type": "markdown",
   "metadata": {},
   "source": [
    "You will also need to add a `SingleSliceMove` which you will fill in below."
   ]
  },
  {
   "cell_type": "code",
   "execution_count": 10,
   "metadata": {
    "collapsed": false
   },
   "outputs": [],
   "source": [
    "def SingleSliceMove(Path):\n",
    "    Path.RelabelBeads()\n",
    "    #add your things here\n",
    "    #make sure to remember if you reject the move, to restore the old location of the coordinates\n",
    "    return 0.0 #accepted # return true if accepted, otherwise return false"
   ]
  },
  {
   "cell_type": "markdown",
   "metadata": {},
   "source": [
    "Note that in the above section of code, the energy is only evaluated every `block_size`\n",
    "steps (in this case 10). This is simply because evaluating the energy is computationally\n",
    "expensive, and it does not help to evaluate an observable much more often than every 10 steps (recall that is the autocorrelation time).\n",
    "\n",
    "Of course, all the work is in writing the move that implements the monte carlo step. Let's do that now"
   ]
  },
  {
   "cell_type": "markdown",
   "metadata": {},
   "source": [
    "#### Our First Move: Single Slice Displacements\n",
    "\n",
    "We would now like to implement a single step of the Monte Carlo algorithm."
   ]
  },
  {
   "cell_type": "markdown",
   "metadata": {},
   "source": [
    "Your move should move (or not if you reject) the appropriate bead and make sure that it\n",
    "updates the accepted and attempted number of moves.\n",
    "\n",
    "The call to `Path.RelabelBeads()` relabels the time slices so the loop begins in a random starting place (this is done so we can always move slice 1).\n",
    "\n",
    "This function must implement a single step of the Monte Carlo algorithm.  Let's recall how a Monte Carlo algorithm works again:\n",
    "\n",
    "1.  Choose new coordinates for your system\n",
    "\n",
    "2. Evaluate the acceptance probability and accept if the ratio is greater then a random number uniformly chosen in $(0,1)$\n",
    "\n",
    "Let's look at each of these pieces in turn:"
   ]
  },
  {
   "cell_type": "markdown",
   "metadata": {},
   "source": [
    "#### Choosing new coordinates \n",
    "\n",
    "Different moves will change the coordinates in different ways.  For this move, we will change the coordinates of \"slice 1\" (we start counting from \"slice 0\") of a random particle (which you select).  Without loss of generality, we can choose \"slice 1\" since we have randomly rotated the loops at the beginning of this move.\n",
    "\n",
    "Then we will choose a new place fo rthis coordinate by uniformly displacing it by an amount chosen uniformly at random. Remember to store what and where you've moved things because you will have to move it back to its old location if you reject the move.\n",
    "\n",
    "A useful function call to know if that `numpy.random.random(3)` will give you a numpy array of 3 elements that are between 0 and 1.  Also, if you have a numpy array, you can multiply and add by a scalar as you would naturally expect.\n",
    "\n"
   ]
  },
  {
   "cell_type": "markdown",
   "metadata": {},
   "source": [
    "#### Evaluating the acceptance probability\n",
    "\n",
    "In metropolis markov chain Monte Carlo, the probability of accepting is \n",
    "\n",
    "$$\\exp[-S_\\textrm{new}+S_\\textrm{old}] \\frac{T(\\textrm{new}\\rightarrow \\textrm{old})}{T(\\textrm{old}\\rightarrow \\textrm{new}]}$$\n",
    "\n",
    "The first term is the exponential of the actions.  The actions consists of the kinetic and potential actions (part of which we won't implement till later.  Just use it as 0 for now).  You need to evaluate the dfference between the old and new versions of the action.  Although you could evaluate the total old action and the total new action, this would be a bad idea and result in a very slow code.  instead just evalaute the difference in the pieces of the path that you have changed.\n",
    "\n",
    "Useful things to keep in mind:\n",
    "\n",
    "1.  It might be easier to work with log of probabilities instead of the probablities themsleves.\n",
    "2.  Change one bead changes two links in the kinetic action.\n",
    "\n",
    "The second term,\n",
    "$$\\frac{T(\\textrm{new}\\rightarrow \\textrm{old})}{T(\\textrm{old}\\rightarrow \\textrm{new}]}$$\n",
    "\n",
    "is the probability that you've selected the current new configuration over the probability that you would return to the old configuration given that you started in the new configuration.  Because we are simply moving something uniformly with a box, this ration is going to be 1.0 for this move.\n",
    "\n",
    "\n"
   ]
  },
  {
   "cell_type": "markdown",
   "metadata": {},
   "source": [
    "#### Putting it together\n",
    "\n",
    "You should proceed to write this function by implementing these two pieces. Here are a copule things to keep note of:\n",
    "\n",
    "1.  you will first evaluate the old action on what you are about to move, move it, and then evaluate the new action.\n",
    "\n",
    "2.  Remember that if you reject to resotre the pieces you've changed (which means you have to save it beforehand).\n",
    "\n",
    "3.  Remember, when you move the \"bead 1\", you will have to compute the kinetic action both from bead 1 to 2 and from bead 0 to 1.\n",
    "\n",
    "Once you have finished writing your function, we need to come up wiht a way to test it."
   ]
  },
  {
   "cell_type": "markdown",
   "metadata": {},
   "source": [
    "#### Kinetic Test\n",
    "\n",
    "In testing monte carlo codes, it's very important that we test things as incrementallly as we can.  Toward that end, let's start by testing things with the external (and interparticle) potentials to be set to 0.  We can do this by calling\n",
    "\n"
   ]
  },
  {
   "cell_type": "code",
   "execution_count": 6,
   "metadata": {
    "collapsed": true
   },
   "outputs": [],
   "source": [
    "from pimc import SingleSliceMove"
   ]
  },
  {
   "cell_type": "code",
   "execution_count": 11,
   "metadata": {
    "collapsed": false
   },
   "outputs": [
    {
     "name": "stdout",
     "output_type": "stream",
     "text": [
      "acceptance rate: 60.55%\n"
     ]
    }
   ],
   "source": [
    "reload(pfuncs)\n",
    "tau = 0.1\n",
    "lam = 0.5\n",
    "\n",
    "nslice = 5\n",
    "nptcl  = 2\n",
    "ndim   = 3\n",
    "path = pfuncs.Path(np.random.randn(nslice,nptcl,ndim),tau,lam)\n",
    "path.SetPotential(lambda x:0.0)\n",
    "path.SetCouplingConstant(0.0)\n",
    "\n",
    "nstep = 2000\n",
    "move_list = [SingleSliceMove]\n",
    "naccept,etrace,path_trace = pimc(nstep,path,move_list)\n",
    "nmove = len(move_list)*nstep\n",
    "acceptance_rate = float(naccept.sum())/nmove\n",
    "print('acceptance rate: {acc:4.2f}%'.format(acc=acceptance_rate*100.) )"
   ]
  },
  {
   "cell_type": "markdown",
   "metadata": {},
   "source": [
    "To analyze the reults, copy CalcStatistics.py from the website:  http://clark.physics.illinois.edu/CalcStatistics.py and put it in the folder you are working with. "
   ]
  },
  {
   "cell_type": "code",
   "execution_count": 13,
   "metadata": {
    "collapsed": false
   },
   "outputs": [
    {
     "data": {
      "text/plain": [
       "(2.4280885636954901, 0.10696777152928925, 5.0037970552091826)"
      ]
     },
     "execution_count": 13,
     "metadata": {},
     "output_type": "execute_result"
    }
   ],
   "source": [
    "from CalcStatistics import Stats\n",
    "nequil = 50\n",
    "Stats(etrace[nequil:])"
   ]
  },
  {
   "cell_type": "code",
   "execution_count": 15,
   "metadata": {
    "collapsed": false
   },
   "outputs": [
    {
     "data": {
      "text/plain": [
       "0.75"
      ]
     },
     "execution_count": 15,
     "metadata": {},
     "output_type": "execute_result"
    }
   ],
   "source": [
    "beta = tau*nslice\n",
    "3.*beta/2."
   ]
  },
  {
   "cell_type": "markdown",
   "metadata": {},
   "source": [
    "When debugging your code, you should first run with a few number of steps (<5000) and\n",
    "then once it appears to be working you should run it with more steps (~50000) to lower the\n",
    "error bars.\n",
    "\n",
    "Now we will be working with two non-interacting particles. Let's now figure out what answer\n",
    "you should expect. Because there is no length scale in the problem for the polymer to\n",
    "\"compare\" itself too, it can't distinguish a quantum world from a classical world.\n",
    "Therefore, you expect the energy to reflect the classical energy of a particle at this\n",
    "temperature. By the equipartition theorem, this would be $\\frac{1}{2} k_B T$ per degree of freedom.\n",
    "\n",
    "Compare your answer to this and verify that it agrees.\n",
    "\n",
    "Don't continue until you can succesfully get the kinetic energy.  Also at this point, you should note what the acceptance ratio of your move is (in a little bit, we will write a better move that has a much better acceptance ratio)"
   ]
  },
  {
   "cell_type": "markdown",
   "metadata": {},
   "source": [
    "#### External Potential Test:\n",
    "\n",
    "Now, let's turn the external potential back on and see if we can reproduce the correct\n",
    "result for 2 quantum particles in a harmonic well. To do this we make the same calls with a\n",
    "different function sent to our class:\n",
    "TestSingleSlicePotential\n",
    "\n",
    "\n"
   ]
  },
  {
   "cell_type": "code",
   "execution_count": 16,
   "metadata": {
    "collapsed": false
   },
   "outputs": [
    {
     "ename": "TypeError",
     "evalue": "unsupported operand type(s) for //: 'int' and 'str'",
     "output_type": "error",
     "traceback": [
      "\u001b[1;31m---------------------------------------------------------------------------\u001b[0m",
      "\u001b[1;31mTypeError\u001b[0m                                 Traceback (most recent call last)",
      "\u001b[1;32m<ipython-input-16-eccc1cbcc160>\u001b[0m in \u001b[0;36m<module>\u001b[1;34m()\u001b[0m\n\u001b[0;32m      4\u001b[0m \u001b[0mpath\u001b[0m\u001b[1;33m.\u001b[0m\u001b[0mSetCouplingConstant\u001b[0m\u001b[1;33m(\u001b[0m\u001b[1;36m0.0\u001b[0m\u001b[1;33m)\u001b[0m\u001b[1;33m\u001b[0m\u001b[0m\n\u001b[0;32m      5\u001b[0m \u001b[0mmoveList\u001b[0m \u001b[1;33m=\u001b[0m \u001b[1;33m[\u001b[0m\u001b[0mSingleSliceMove\u001b[0m\u001b[1;33m]\u001b[0m\u001b[1;33m\u001b[0m\u001b[0m\n\u001b[1;32m----> 6\u001b[1;33m \u001b[1;32mprint\u001b[0m \u001b[0mpimc\u001b[0m\u001b[1;33m(\u001b[0m\u001b[0mnumSteps\u001b[0m\u001b[1;33m,\u001b[0m\u001b[0mpath\u001b[0m\u001b[1;33m,\u001b[0m\u001b[0mmoveList\u001b[0m\u001b[1;33m,\u001b[0m\u001b[1;34m\"SingleSlicePotential\"\u001b[0m\u001b[1;33m)\u001b[0m\u001b[1;33m\u001b[0m\u001b[0m\n\u001b[0m",
      "\u001b[1;32m<ipython-input-5-9e6ce28c9c7f>\u001b[0m in \u001b[0;36mpimc\u001b[1;34m(nstep, path, move_list, block_size)\u001b[0m\n\u001b[0;32m      1\u001b[0m \u001b[1;32mdef\u001b[0m \u001b[0mpimc\u001b[0m\u001b[1;33m(\u001b[0m\u001b[0mnstep\u001b[0m\u001b[1;33m,\u001b[0m\u001b[0mpath\u001b[0m\u001b[1;33m,\u001b[0m\u001b[0mmove_list\u001b[0m\u001b[1;33m,\u001b[0m\u001b[0mblock_size\u001b[0m\u001b[1;33m=\u001b[0m\u001b[1;36m10\u001b[0m\u001b[1;33m)\u001b[0m\u001b[1;33m:\u001b[0m\u001b[1;33m\u001b[0m\u001b[0m\n\u001b[1;32m----> 2\u001b[1;33m     \u001b[0mnblock\u001b[0m  \u001b[1;33m=\u001b[0m \u001b[0mnstep\u001b[0m\u001b[1;33m//\u001b[0m\u001b[0mblock_size\u001b[0m\u001b[1;33m\u001b[0m\u001b[0m\n\u001b[0m\u001b[0;32m      3\u001b[0m     \u001b[0mnmove\u001b[0m   \u001b[1;33m=\u001b[0m \u001b[0mlen\u001b[0m\u001b[1;33m(\u001b[0m\u001b[0mmove_list\u001b[0m\u001b[1;33m)\u001b[0m\u001b[1;33m\u001b[0m\u001b[0m\n\u001b[0;32m      4\u001b[0m \u001b[1;33m\u001b[0m\u001b[0m\n\u001b[0;32m      5\u001b[0m     \u001b[0mnslice\u001b[0m\u001b[1;33m,\u001b[0m\u001b[0mnptcl\u001b[0m\u001b[1;33m,\u001b[0m\u001b[0mndim\u001b[0m \u001b[1;33m=\u001b[0m \u001b[0mpath\u001b[0m\u001b[1;33m.\u001b[0m\u001b[0mbeads\u001b[0m\u001b[1;33m.\u001b[0m\u001b[0mshape\u001b[0m\u001b[1;33m\u001b[0m\u001b[0m\n",
      "\u001b[1;31mTypeError\u001b[0m: unsupported operand type(s) for //: 'int' and 'str'"
     ]
    }
   ],
   "source": [
    "reload(pfuncs)\n",
    "path=pfuncs.Path(np.zeros((numTimeSlices,numParticles,3),float),tau,lam)\n",
    "path.SetPotential(HarmonicOscillator)\n",
    "path.SetCouplingConstant(0.0)\n",
    "moveList = [SingleSliceMove]\n",
    "print pimc(numSteps,path,moveList,\"SingleSlicePotential\")"
   ]
  },
  {
   "cell_type": "markdown",
   "metadata": {},
   "source": [
    "Because this is a harmonic oscillator, we should be able to calculate the energy\n",
    "analytically for any temperature. In order to do this, you can calculate all the\n",
    "eigenstates of the harmonic oscillator and then simply occupy them with the probability\n",
    "Add a function to your code like"
   ]
  },
  {
   "cell_type": "code",
   "execution_count": null,
   "metadata": {
    "collapsed": true
   },
   "outputs": [],
   "source": [
    "def HarmonicEnergy(tau,numTimeSlices,numParticles):\n",
    "    # none\n",
    "    return 0.0"
   ]
  },
  {
   "cell_type": "markdown",
   "metadata": {},
   "source": [
    "that computes the harmonic oscillator answer.\n",
    "\n",
    "Run your system and compare the analytic results with those calculated exactly. Note: you\n",
    "may notice that you are getting the incorrect answer! Let's try to understand why this is\n",
    "the case."
   ]
  },
  {
   "cell_type": "markdown",
   "metadata": {},
   "source": [
    "Note: Currently skipping visualization"
   ]
  },
  {
   "cell_type": "markdown",
   "metadata": {},
   "source": [
    "#### Our second move: Displace\n",
    "\n",
    "To increase efficiency, we will add another type of move to our simulation. While the\n",
    "single-slice move does a reasonable job changing the shape of the path, it fails to move\n",
    "the center of mass very quickly. Fortunately, a very simple move exists which complements\n",
    "this move. The \"displace\" move rigidly translates an entire electron path by some random\n",
    "displacement vector. Please implement the move below"
   ]
  },
  {
   "cell_type": "code",
   "execution_count": null,
   "metadata": {
    "collapsed": true
   },
   "outputs": [],
   "source": [
    "def DisplaceMove(Path):\n",
    "    # First, compute the total potential action for all time slices.\n",
    "    # This move won't change the kinetic action, so you don't need to compute it\n",
    "    # Don't forget the link action from the last slice back to the first!\n",
    "    oldV = 0.0\n",
    "    # Save a copy of the old path\n",
    "    savePath = Path.beads.copy()\n",
    "    # Now, create a random vector for displacement\n",
    "    delta = 4.0*numpy.array([random.random()-0.5, random.random()-0.5, random.random()-0.5])\n",
    "    # move all the time slices\n",
    "    # Compute the new potential action\n",
    "    newV = 0.0\n",
    "    # Accept or reject based on the change in potential action\n",
    "    # Remember to copy back savePath if you reject\n",
    "    # Remember to return True if you accept and False if you reject"
   ]
  },
  {
   "cell_type": "markdown",
   "metadata": {},
   "source": [
    "that shifts all the slices of the particle by some amount delta randomly selected from a\n",
    "box. Notice that when you do this rigid shift, none of the spring lengths will change\n",
    "(since the imaginary time slices don't change with respect to each other). Therefore, you\n",
    "just need to calculate the potential action. Remember that our loop is closed so there is a\n",
    "closed link between slice NumTimeSlices-1 and slice 0."
   ]
  },
  {
   "cell_type": "markdown",
   "metadata": {},
   "source": [
    "#### Potential Test: Take 2\n",
    "\n",
    "Before we noticed when running our simulation that:\n",
    "1. the error bars were large\n",
    "2. the autocorrelation time that was calculated was large\n",
    "3. the autocorrelation time as estimated from looking at our energy trace was large\n",
    "4. the visualized paths moved very slowly."
   ]
  },
  {
   "cell_type": "markdown",
   "metadata": {},
   "source": [
    "Before we noticed when running our simulation that:\n",
    "\n",
    "1. the error bars were large\n",
    "2. the autocorrelation time that was calculated was large\n",
    "3. the autocorrelation time as estimated from looking at our energy trace was large\n",
    "4. the visualized paths moved very slowly.\n",
    "\n",
    "We will now do the same simulation (with the same number of steps) but include a displace\n",
    "move. To test this move, run [something that is currently missing]\n",
    "\n",
    "Notice, this time, that the error was much smaller (and gets the correct answer) and the autocorrelation time much better. We will visualize our system again by calling\n",
    "\n",
    "Go ahead and visualize your paths again. \n",
    "\n",
    "You should notice a major difference showing that between steps the paths move significantly further."
   ]
  },
  {
   "cell_type": "markdown",
   "metadata": {},
   "source": [
    "#### Our third move: Lowering the temperature and the BisectionMove\n",
    "\n",
    "We now have a Monte Carlo code that works reasonably well at high temperatures. We are now\n",
    "going to lower our temperature by including 20 time slices. To test our system, run\n",
    "below"
   ]
  },
  {
   "cell_type": "code",
   "execution_count": null,
   "metadata": {
    "collapsed": true
   },
   "outputs": [],
   "source": [
    "#still coming"
   ]
  },
  {
   "cell_type": "markdown",
   "metadata": {},
   "source": [
    "\n",
    "You should note the following things. To begin with, notice that\n",
    "1. the autocorrelation time is large\n",
    "2. the error bars are large.\n",
    "\n",
    "This problem is due to the fact that we are moving only a single slice at a time. Since\n",
    "each \"bead\" in the path is connected to its neighbors through the kinetic action, each\n",
    "single-slice move cannot move the bead very far. (Imagine holding hands in a ring of 100\n",
    "people, and each person, one at a time, takes a turn taking a step in a random direction.)\n",
    "To improve the efficiency, it is better to move a continuous section of time slices\n",
    "simultaneously. We are going to try to remedy that now. Our new move will move 7 slices\n",
    "(trivially slices at a time)\n",
    "We have supplied this move. It is called Bisection and we will call it with the same calls\n",
    "instead replacing the call to PIMC with"
   ]
  },
  {
   "cell_type": "code",
   "execution_count": null,
   "metadata": {
    "collapsed": false
   },
   "outputs": [],
   "source": [
    "PIMC(numSteps,Path,Bisection,\"Bisection\""
   ]
  },
  {
   "cell_type": "markdown",
   "metadata": {},
   "source": [
    "To appreciate the difference between these two moves, compare the error bars and\n",
    "autocorrelation time when the system is equilibrated with SingleSlice move as compared with\n",
    "Bisection. (Of course, this latter move is somewhat slower but you still normally win out\n",
    "significantly in the end)\n",
    "Although the difference is certainly noticeable with the 20 slices that we have been using,\n",
    "it is especially important as we increase quantum effects (for example with 50 slices the\n",
    "SingleSliceMove becomes unusable)"
   ]
  },
  {
   "cell_type": "markdown",
   "metadata": {},
   "source": [
    "### The final steps\n",
    "\n",
    "#### Observables\n",
    "\n",
    "Beyond the energy, we would also like to know where our electrons are in our system as well\n",
    "as the correlations between them. This will become especially true when we have the double\n",
    "well potential. Some key properties we might care about include:\n",
    "1. the density along the x direction\n",
    "2. the pair correlation function between the electrons\n",
    "\n",
    "\n",
    "Use the following function:\n"
   ]
  },
  {
   "cell_type": "code",
   "execution_count": null,
   "metadata": {
    "collapsed": true
   },
   "outputs": [],
   "source": [
    "def CalcDensity(self,DensityHistogram):\n",
    "    for slice in range(0,self.NumTimeSlices):\n",
    "        dist=numpy.sqrt(dot(self.beads[slice,0],self.beads[slice,0]))\n",
    "        DensityHistogram.add(self.beads[slice,0,0])\n",
    "        dist=numpy.sqrt(dot(self.beads[slice,1],self.beads[slice,1]))\n",
    "        DensityHistogram.add(self.beads[slice,1,0])\n"
   ]
  },
  {
   "cell_type": "markdown",
   "metadata": {},
   "source": [
    "Using this as inspiration, you should write the function"
   ]
  },
  {
   "cell_type": "code",
   "execution_count": null,
   "metadata": {
    "collapsed": true
   },
   "outputs": [],
   "source": [
    "def CalcPairCorrelation(Path,PairHistogram):\n",
    "#simply stores the current pair correlation in a histogram"
   ]
  },
  {
   "cell_type": "markdown",
   "metadata": {},
   "source": [
    "Remember, that to add a value to a histogram you need to call"
   ]
  },
  {
   "cell_type": "code",
   "execution_count": null,
   "metadata": {
    "collapsed": true
   },
   "outputs": [],
   "source": [
    "PairHistogram.add(myVal)"
   ]
  },
  {
   "cell_type": "markdown",
   "metadata": {},
   "source": [
    "(Notice that in order to calculate these properties, we are going to want to sum over all\n",
    "the slices in imaginary time.)\n",
    "Once this function is written, we have to initialize these histograms and plot them inside\n",
    "our PIMC function. You may have noticed the lines inside the PIMC function"
   ]
  },
  {
   "cell_type": "code",
   "execution_count": null,
   "metadata": {
    "collapsed": false
   },
   "outputs": [],
   "source": [
    "DensityHistogram=Histogram(minVal,maxVal,numPoints)"
   ]
  },
  {
   "cell_type": "markdown",
   "metadata": {},
   "source": [
    "and "
   ]
  },
  {
   "cell_type": "code",
   "execution_count": null,
   "metadata": {
    "collapsed": true
   },
   "outputs": [],
   "source": [
    "Histogram.PlotMe(\"fileName.png\")"
   ]
  },
  {
   "cell_type": "markdown",
   "metadata": {},
   "source": [
    "that will initialize and plot our histogram.\n",
    "You should now run your simulation and plot these observables. From the density plot, it\n",
    "should be clear that the particles fill out the harmonic potential effectively. You should\n",
    "be able to look at the pair correlation plot and notice that the two particles are\n",
    "independent."
   ]
  },
  {
   "cell_type": "markdown",
   "metadata": {},
   "source": [
    "### Correlation: The Interaction Potential\n",
    "\n",
    "So far, everything we have done has involved independent electrons. Of course, the whole\n",
    "point of doing quantum monte carlo is so you can calculate properties of correlated\n",
    "electrons. So far we have been construction our Path with the coupling constant of the\n",
    "interaction potential set to zero. Now we will write a function for the interaction\n",
    "potential of the form\n",
    "\n",
    "$$V_{ee}(r)=\\frac{c}{r_{12}}$$\n",
    "\n",
    "where $r_{12}$ is the distance between the two particles.  Depending on whether the coupling\n",
    "constant $c$ is positive or negative will determine whether or not the system is attractive\n",
    "or repulsive. Your function should call Path.c to access the coupling constant. Let's make\n",
    "sure the function"
   ]
  },
  {
   "cell_type": "code",
   "execution_count": null,
   "metadata": {
    "collapsed": true
   },
   "outputs": [],
   "source": [
    "def Vee(self,R):\n",
    "    #compute coulumb potential\n",
    "    #remembering to add the epsilon\n",
    "    # for attractive potentials.\n",
    "    # self.C accesses the C"
   ]
  },
  {
   "cell_type": "markdown",
   "metadata": {},
   "source": [
    "is filled in. We can now run the code with the repulsive potential"
   ]
  },
  {
   "cell_type": "code",
   "execution_count": null,
   "metadata": {
    "collapsed": true
   },
   "outputs": [],
   "source": [
    "Path.SetPotential(HarmonicOscillator)\n",
    "Path.SetCouplingConstant(1.0)\n",
    "PIMC(numSteps,Path,[DisplaceMove,BisectionMove],\"Coupling\")"
   ]
  },
  {
   "cell_type": "markdown",
   "metadata": {},
   "source": [
    "How do the pair correlation functions of this function differ from the pair correlation\n",
    "when there was no attraction?"
   ]
  },
  {
   "cell_type": "markdown",
   "metadata": {},
   "source": [
    "### Adding the double well\n",
    "\n",
    "At this point we are ready to add the second well to the system. In order to do this, we\n",
    "will write a potential for the double harmonic well\n",
    "\n",
    "$$V(r)= s((x-a)^2+y^2+z^2))((x+a)^2+y^2+z^2))$$\n",
    "\n",
    "Use $a=2$ and $s=0.1$\n",
    "\n",
    "Write a function"
   ]
  },
  {
   "cell_type": "code",
   "execution_count": null,
   "metadata": {
    "collapsed": true
   },
   "outputs": [],
   "source": [
    "def DoubleWell(Path,r):\n",
    "# Return the double well potential\n",
    "# Remember that r is a 3-vector (stored as a numpy array)"
   ]
  },
  {
   "cell_type": "markdown",
   "metadata": {},
   "source": [
    "Then we can call the code with "
   ]
  },
  {
   "cell_type": "code",
   "execution_count": null,
   "metadata": {
    "collapsed": true
   },
   "outputs": [],
   "source": [
    "Path.SetCouplingConstant(0.0)\n",
    "print PIMC(numSteps,Path,[BisectionMove,DisplaceMove],\"DoubleWellNoCoupling\")\n",
    "Path.SetCouplingConstant(1.0)\n",
    "print PIMC(numSteps,Path,[BisectionMove,DisplaceMove],\"DoubleWellRepulsive\")"
   ]
  },
  {
   "cell_type": "markdown",
   "metadata": {},
   "source": [
    "Now run your code and look at your density and pair correlation functions. You should\n",
    "notice that the particles (when repulsive) stay in opposing wells.\n",
    "Now we will try turning off the interaction potential entirely (TestDoubleWellNone.py).\n",
    "What happens to the density profile and pair correlation function?"
   ]
  },
  {
   "cell_type": "markdown",
   "metadata": {},
   "source": [
    "### Manipulating a quantum dot\n",
    "\n",
    "Congratulations! You have now put together a complete path integral code for examining two\n",
    "unpolarized electrons in a quantum dot. At this point, you might want to explore some\n",
    "properties of your quantum dot. For example you might examine the range of coupling\n",
    "constants an experimentalist might have to sample over in order to change between electrons\n",
    "staying in their respective dot in comparison with electrons staying in different dots.\n",
    "Beyond, this you could examine at what temperature, the coherence of these dots is\n",
    "effectively diminished."
   ]
  },
  {
   "cell_type": "code",
   "execution_count": null,
   "metadata": {
    "collapsed": true
   },
   "outputs": [],
   "source": []
  }
 ],
 "metadata": {
  "celltoolbar": "Raw Cell Format",
  "kernelspec": {
   "display_name": "Python 2",
   "language": "python",
   "name": "python2"
  },
  "language_info": {
   "codemirror_mode": {
    "name": "ipython",
    "version": 2
   },
   "file_extension": ".py",
   "mimetype": "text/x-python",
   "name": "python",
   "nbconvert_exporter": "python",
   "pygments_lexer": "ipython2",
   "version": "2.7.11"
  }
 },
 "nbformat": 4,
 "nbformat_minor": 0
}
